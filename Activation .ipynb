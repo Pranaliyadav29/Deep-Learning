{
 "cells": [
  {
   "cell_type": "raw",
   "id": "b4b1746b",
   "metadata": {},
   "source": [
    "1.binary step function = 0 or 1 value less than o then 0 \n",
    "2.linear = continues -infinity to infinity\n",
    "3.non linear or sigmoid = continues\n",
    "4.tenh function (Hyperbloic Tangetnt)=(-1,1)\n",
    "5.ReLU fuction = Positive value only\n",
    "Lakey Relu = some negative value otherwise Positive"
   ]
  },
  {
   "cell_type": "code",
   "execution_count": null,
   "id": "4f0ee362",
   "metadata": {},
   "outputs": [],
   "source": []
  }
 ],
 "metadata": {
  "kernelspec": {
   "display_name": "Python 3 (ipykernel)",
   "language": "python",
   "name": "python3"
  },
  "language_info": {
   "codemirror_mode": {
    "name": "ipython",
    "version": 3
   },
   "file_extension": ".py",
   "mimetype": "text/x-python",
   "name": "python",
   "nbconvert_exporter": "python",
   "pygments_lexer": "ipython3",
   "version": "3.9.13"
  }
 },
 "nbformat": 4,
 "nbformat_minor": 5
}
